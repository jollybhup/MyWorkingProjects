{
 "cells": [
  {
   "cell_type": "markdown",
   "metadata": {},
   "source": [
    "## Topic Analysis of Review Data\n",
    "### Bhupinder Singh Jolly"
   ]
  },
  {
   "cell_type": "code",
   "execution_count": 110,
   "metadata": {},
   "outputs": [],
   "source": [
    "import pandas as pd\n",
    "import numpy as np"
   ]
  },
  {
   "cell_type": "code",
   "execution_count": 111,
   "metadata": {},
   "outputs": [
    {
     "data": {
      "text/html": [
       "<div>\n",
       "<style scoped>\n",
       "    .dataframe tbody tr th:only-of-type {\n",
       "        vertical-align: middle;\n",
       "    }\n",
       "\n",
       "    .dataframe tbody tr th {\n",
       "        vertical-align: top;\n",
       "    }\n",
       "\n",
       "    .dataframe thead th {\n",
       "        text-align: right;\n",
       "    }\n",
       "</style>\n",
       "<table border=\"1\" class=\"dataframe\">\n",
       "  <thead>\n",
       "    <tr style=\"text-align: right;\">\n",
       "      <th></th>\n",
       "      <th>sentiment</th>\n",
       "      <th>review</th>\n",
       "    </tr>\n",
       "  </thead>\n",
       "  <tbody>\n",
       "    <tr>\n",
       "      <th>0</th>\n",
       "      <td>1</td>\n",
       "      <td>Good but need updates and improvements</td>\n",
       "    </tr>\n",
       "    <tr>\n",
       "      <th>1</th>\n",
       "      <td>0</td>\n",
       "      <td>Worst mobile i have bought ever, Battery is dr...</td>\n",
       "    </tr>\n",
       "    <tr>\n",
       "      <th>2</th>\n",
       "      <td>1</td>\n",
       "      <td>when I will get my 10% cash back.... its alrea...</td>\n",
       "    </tr>\n",
       "    <tr>\n",
       "      <th>3</th>\n",
       "      <td>1</td>\n",
       "      <td>Good</td>\n",
       "    </tr>\n",
       "    <tr>\n",
       "      <th>4</th>\n",
       "      <td>0</td>\n",
       "      <td>The worst phone everThey have changed the last...</td>\n",
       "    </tr>\n",
       "    <tr>\n",
       "      <th>5</th>\n",
       "      <td>0</td>\n",
       "      <td>Only I'm telling don't buyI'm totally disappoi...</td>\n",
       "    </tr>\n",
       "    <tr>\n",
       "      <th>6</th>\n",
       "      <td>1</td>\n",
       "      <td>Phone is awesome. But while charging, it heats...</td>\n",
       "    </tr>\n",
       "    <tr>\n",
       "      <th>7</th>\n",
       "      <td>0</td>\n",
       "      <td>The battery level has worn down</td>\n",
       "    </tr>\n",
       "    <tr>\n",
       "      <th>8</th>\n",
       "      <td>0</td>\n",
       "      <td>It's over hitting problems...and phone hanging...</td>\n",
       "    </tr>\n",
       "    <tr>\n",
       "      <th>9</th>\n",
       "      <td>0</td>\n",
       "      <td>A lot of glitches dont buy this thing better g...</td>\n",
       "    </tr>\n",
       "  </tbody>\n",
       "</table>\n",
       "</div>"
      ],
      "text/plain": [
       "   sentiment                                             review\n",
       "0          1             Good but need updates and improvements\n",
       "1          0  Worst mobile i have bought ever, Battery is dr...\n",
       "2          1  when I will get my 10% cash back.... its alrea...\n",
       "3          1                                               Good\n",
       "4          0  The worst phone everThey have changed the last...\n",
       "5          0  Only I'm telling don't buyI'm totally disappoi...\n",
       "6          1  Phone is awesome. But while charging, it heats...\n",
       "7          0                    The battery level has worn down\n",
       "8          0  It's over hitting problems...and phone hanging...\n",
       "9          0  A lot of glitches dont buy this thing better g..."
      ]
     },
     "execution_count": 111,
     "metadata": {},
     "output_type": "execute_result"
    }
   ],
   "source": [
    "reviews = pd.read_csv(\"K8 Reviews v0.2.csv\")\n",
    "reviews.head(10)"
   ]
  },
  {
   "cell_type": "code",
   "execution_count": 112,
   "metadata": {},
   "outputs": [
    {
     "data": {
      "text/plain": [
       "'good but need updates and improvements'"
      ]
     },
     "execution_count": 112,
     "metadata": {},
     "output_type": "execute_result"
    }
   ],
   "source": [
    "reviews_lower = [sent.lower() for sent in reviews.review.values]\n",
    "reviews_lower[0]"
   ]
  },
  {
   "cell_type": "code",
   "execution_count": 113,
   "metadata": {},
   "outputs": [],
   "source": [
    "import nltk\n",
    "from nltk import word_tokenize"
   ]
  },
  {
   "cell_type": "code",
   "execution_count": 114,
   "metadata": {},
   "outputs": [
    {
     "data": {
      "text/plain": [
       "['good', 'but', 'need', 'updates', 'and', 'improvements']"
      ]
     },
     "execution_count": 114,
     "metadata": {},
     "output_type": "execute_result"
    }
   ],
   "source": [
    "reviews_token = [word_tokenize(sent) for sent in reviews_lower]\n",
    "reviews_token[0]"
   ]
  },
  {
   "cell_type": "code",
   "execution_count": 115,
   "metadata": {},
   "outputs": [],
   "source": [
    "from nltk import pos_tag"
   ]
  },
  {
   "cell_type": "code",
   "execution_count": 116,
   "metadata": {},
   "outputs": [
    {
     "data": {
      "text/plain": [
       "[('good', 'JJ'),\n",
       " ('but', 'CC'),\n",
       " ('need', 'VBP'),\n",
       " ('updates', 'NNS'),\n",
       " ('and', 'CC'),\n",
       " ('improvements', 'NNS')]"
      ]
     },
     "execution_count": 116,
     "metadata": {},
     "output_type": "execute_result"
    }
   ],
   "source": [
    "reviews_pos_tag = [nltk.pos_tag(tokens) for tokens in reviews_token]\n",
    "reviews_pos_tag[0]"
   ]
  },
  {
   "cell_type": "code",
   "execution_count": 117,
   "metadata": {},
   "outputs": [
    {
     "name": "stdout",
     "output_type": "stream",
     "text": [
      "$: dollar\n",
      "    $ -$ --$ A$ C$ HK$ M$ NZ$ S$ U.S.$ US$\n",
      "'': closing quotation mark\n",
      "    ' ''\n",
      "(: opening parenthesis\n",
      "    ( [ {\n",
      "): closing parenthesis\n",
      "    ) ] }\n",
      ",: comma\n",
      "    ,\n",
      "--: dash\n",
      "    --\n",
      ".: sentence terminator\n",
      "    . ! ?\n",
      ":: colon or ellipsis\n",
      "    : ; ...\n",
      "CC: conjunction, coordinating\n",
      "    & 'n and both but either et for less minus neither nor or plus so\n",
      "    therefore times v. versus vs. whether yet\n",
      "CD: numeral, cardinal\n",
      "    mid-1890 nine-thirty forty-two one-tenth ten million 0.5 one forty-\n",
      "    seven 1987 twenty '79 zero two 78-degrees eighty-four IX '60s .025\n",
      "    fifteen 271,124 dozen quintillion DM2,000 ...\n",
      "DT: determiner\n",
      "    all an another any both del each either every half la many much nary\n",
      "    neither no some such that the them these this those\n",
      "EX: existential there\n",
      "    there\n",
      "FW: foreign word\n",
      "    gemeinschaft hund ich jeux habeas Haementeria Herr K'ang-si vous\n",
      "    lutihaw alai je jour objets salutaris fille quibusdam pas trop Monte\n",
      "    terram fiche oui corporis ...\n",
      "IN: preposition or conjunction, subordinating\n",
      "    astride among uppon whether out inside pro despite on by throughout\n",
      "    below within for towards near behind atop around if like until below\n",
      "    next into if beside ...\n",
      "JJ: adjective or numeral, ordinal\n",
      "    third ill-mannered pre-war regrettable oiled calamitous first separable\n",
      "    ectoplasmic battery-powered participatory fourth still-to-be-named\n",
      "    multilingual multi-disciplinary ...\n",
      "JJR: adjective, comparative\n",
      "    bleaker braver breezier briefer brighter brisker broader bumper busier\n",
      "    calmer cheaper choosier cleaner clearer closer colder commoner costlier\n",
      "    cozier creamier crunchier cuter ...\n",
      "JJS: adjective, superlative\n",
      "    calmest cheapest choicest classiest cleanest clearest closest commonest\n",
      "    corniest costliest crassest creepiest crudest cutest darkest deadliest\n",
      "    dearest deepest densest dinkiest ...\n",
      "LS: list item marker\n",
      "    A A. B B. C C. D E F First G H I J K One SP-44001 SP-44002 SP-44005\n",
      "    SP-44007 Second Third Three Two * a b c d first five four one six three\n",
      "    two\n",
      "MD: modal auxiliary\n",
      "    can cannot could couldn't dare may might must need ought shall should\n",
      "    shouldn't will would\n",
      "NN: noun, common, singular or mass\n",
      "    common-carrier cabbage knuckle-duster Casino afghan shed thermostat\n",
      "    investment slide humour falloff slick wind hyena override subhumanity\n",
      "    machinist ...\n",
      "NNP: noun, proper, singular\n",
      "    Motown Venneboerger Czestochwa Ranzer Conchita Trumplane Christos\n",
      "    Oceanside Escobar Kreisler Sawyer Cougar Yvette Ervin ODI Darryl CTCA\n",
      "    Shannon A.K.C. Meltex Liverpool ...\n",
      "NNPS: noun, proper, plural\n",
      "    Americans Americas Amharas Amityvilles Amusements Anarcho-Syndicalists\n",
      "    Andalusians Andes Andruses Angels Animals Anthony Antilles Antiques\n",
      "    Apache Apaches Apocrypha ...\n",
      "NNS: noun, common, plural\n",
      "    undergraduates scotches bric-a-brac products bodyguards facets coasts\n",
      "    divestitures storehouses designs clubs fragrances averages\n",
      "    subjectivists apprehensions muses factory-jobs ...\n",
      "PDT: pre-determiner\n",
      "    all both half many quite such sure this\n",
      "POS: genitive marker\n",
      "    ' 's\n",
      "PRP: pronoun, personal\n",
      "    hers herself him himself hisself it itself me myself one oneself ours\n",
      "    ourselves ownself self she thee theirs them themselves they thou thy us\n",
      "PRP$: pronoun, possessive\n",
      "    her his mine my our ours their thy your\n",
      "RB: adverb\n",
      "    occasionally unabatingly maddeningly adventurously professedly\n",
      "    stirringly prominently technologically magisterially predominately\n",
      "    swiftly fiscally pitilessly ...\n",
      "RBR: adverb, comparative\n",
      "    further gloomier grander graver greater grimmer harder harsher\n",
      "    healthier heavier higher however larger later leaner lengthier less-\n",
      "    perfectly lesser lonelier longer louder lower more ...\n",
      "RBS: adverb, superlative\n",
      "    best biggest bluntest earliest farthest first furthest hardest\n",
      "    heartiest highest largest least less most nearest second tightest worst\n",
      "RP: particle\n",
      "    aboard about across along apart around aside at away back before behind\n",
      "    by crop down ever fast for forth from go high i.e. in into just later\n",
      "    low more off on open out over per pie raising start teeth that through\n",
      "    under unto up up-pp upon whole with you\n",
      "SYM: symbol\n",
      "    % & ' '' ''. ) ). * + ,. < = > @ A[fj] U.S U.S.S.R * ** ***\n",
      "TO: \"to\" as preposition or infinitive marker\n",
      "    to\n",
      "UH: interjection\n",
      "    Goodbye Goody Gosh Wow Jeepers Jee-sus Hubba Hey Kee-reist Oops amen\n",
      "    huh howdy uh dammit whammo shucks heck anyways whodunnit honey golly\n",
      "    man baby diddle hush sonuvabitch ...\n",
      "VB: verb, base form\n",
      "    ask assemble assess assign assume atone attention avoid bake balkanize\n",
      "    bank begin behold believe bend benefit bevel beware bless boil bomb\n",
      "    boost brace break bring broil brush build ...\n",
      "VBD: verb, past tense\n",
      "    dipped pleaded swiped regummed soaked tidied convened halted registered\n",
      "    cushioned exacted snubbed strode aimed adopted belied figgered\n",
      "    speculated wore appreciated contemplated ...\n",
      "VBG: verb, present participle or gerund\n",
      "    telegraphing stirring focusing angering judging stalling lactating\n",
      "    hankerin' alleging veering capping approaching traveling besieging\n",
      "    encrypting interrupting erasing wincing ...\n",
      "VBN: verb, past participle\n",
      "    multihulled dilapidated aerosolized chaired languished panelized used\n",
      "    experimented flourished imitated reunifed factored condensed sheared\n",
      "    unsettled primed dubbed desired ...\n",
      "VBP: verb, present tense, not 3rd person singular\n",
      "    predominate wrap resort sue twist spill cure lengthen brush terminate\n",
      "    appear tend stray glisten obtain comprise detest tease attract\n",
      "    emphasize mold postpone sever return wag ...\n",
      "VBZ: verb, present tense, 3rd person singular\n",
      "    bases reconstructs marks mixes displeases seals carps weaves snatches\n",
      "    slumps stretches authorizes smolders pictures emerges stockpiles\n",
      "    seduces fizzes uses bolsters slaps speaks pleads ...\n",
      "WDT: WH-determiner\n",
      "    that what whatever which whichever\n",
      "WP: WH-pronoun\n",
      "    that what whatever whatsoever which who whom whosoever\n",
      "WP$: WH-pronoun, possessive\n",
      "    whose\n",
      "WRB: Wh-adverb\n",
      "    how however whence whenever where whereby whereever wherein whereof why\n",
      "``: opening quotation mark\n",
      "    ` ``\n"
     ]
    }
   ],
   "source": [
    "nltk.help.upenn_tagset()"
   ]
  },
  {
   "cell_type": "code",
   "execution_count": 118,
   "metadata": {},
   "outputs": [
    {
     "data": {
      "text/plain": [
       "('great', 'JJ')"
      ]
     },
     "execution_count": 118,
     "metadata": {},
     "output_type": "execute_result"
    }
   ],
   "source": [
    "tagged_tupple = nltk.pos_tag([\"great\"])\n",
    "tagged_tupple[0]"
   ]
  },
  {
   "cell_type": "code",
   "execution_count": 119,
   "metadata": {},
   "outputs": [],
   "source": [
    "import re"
   ]
  },
  {
   "cell_type": "code",
   "execution_count": 120,
   "metadata": {},
   "outputs": [
    {
     "data": {
      "text/plain": [
       "[('updates', 'NNS'), ('improvements', 'NNS')]"
      ]
     },
     "execution_count": 120,
     "metadata": {},
     "output_type": "execute_result"
    }
   ],
   "source": [
    "reviews_noun = []\n",
    "for sent in reviews_pos_tag:\n",
    "    reviews_noun.append([token for token in sent if re.search(\"NN.*\",token[1])])\n",
    "reviews_noun[0]"
   ]
  },
  {
   "cell_type": "code",
   "execution_count": 121,
   "metadata": {},
   "outputs": [],
   "source": [
    "from nltk.stem import WordNetLemmatizer"
   ]
  },
  {
   "cell_type": "code",
   "execution_count": 122,
   "metadata": {},
   "outputs": [],
   "source": [
    "lemm = WordNetLemmatizer()"
   ]
  },
  {
   "cell_type": "code",
   "execution_count": 123,
   "metadata": {},
   "outputs": [
    {
     "data": {
      "text/plain": [
       "['update', 'improvement']"
      ]
     },
     "execution_count": 123,
     "metadata": {},
     "output_type": "execute_result"
    }
   ],
   "source": [
    "reviews_lemm = []\n",
    "for sent in reviews_noun:\n",
    "    reviews_lemm.append([lemm.lemmatize(word[0]) for word in sent])\n",
    "\n",
    "reviews_lemm[0]"
   ]
  },
  {
   "cell_type": "code",
   "execution_count": 124,
   "metadata": {},
   "outputs": [],
   "source": [
    "from string import punctuation\n",
    "from nltk.corpus import stopwords"
   ]
  },
  {
   "cell_type": "code",
   "execution_count": 125,
   "metadata": {},
   "outputs": [],
   "source": [
    "stop_word = stopwords.words(\"english\")\n",
    "stop_update = stop_word + list(punctuation) + [\"...\"] + [\"..\"]"
   ]
  },
  {
   "cell_type": "code",
   "execution_count": 126,
   "metadata": {},
   "outputs": [],
   "source": [
    "reviews_sw_removed = []\n",
    "for sent in reviews_lemm:\n",
    "    reviews_sw_removed.append([term for term in sent if term not in stop_update])"
   ]
  },
  {
   "cell_type": "code",
   "execution_count": 127,
   "metadata": {},
   "outputs": [
    {
     "data": {
      "text/plain": [
       "['mobile',\n",
       " 'battery',\n",
       " 'hell',\n",
       " 'backup',\n",
       " 'hour',\n",
       " 'us',\n",
       " 'idle',\n",
       " 'discharged.this',\n",
       " 'lie',\n",
       " 'amazon',\n",
       " 'lenove',\n",
       " 'battery',\n",
       " 'charger',\n",
       " 'hour']"
      ]
     },
     "execution_count": 127,
     "metadata": {},
     "output_type": "execute_result"
    }
   ],
   "source": [
    "reviews_sw_removed[1]"
   ]
  },
  {
   "cell_type": "code",
   "execution_count": 128,
   "metadata": {},
   "outputs": [],
   "source": [
    "import gensim\n",
    "import gensim.corpora as corpora\n",
    "from gensim.models import CoherenceModel\n",
    "from gensim.models import ldamodel"
   ]
  },
  {
   "cell_type": "code",
   "execution_count": 129,
   "metadata": {},
   "outputs": [],
   "source": [
    "id2word = corpora.Dictionary(reviews_sw_removed)\n",
    "texts = reviews_sw_removed"
   ]
  },
  {
   "cell_type": "code",
   "execution_count": 130,
   "metadata": {},
   "outputs": [
    {
     "name": "stdout",
     "output_type": "stream",
     "text": [
      "[(36, 1), (143, 1), (314, 1), (415, 1), (416, 1)]\n"
     ]
    }
   ],
   "source": [
    "corpus = [id2word.doc2bow(text) for text in texts]\n",
    "print(corpus[200])"
   ]
  },
  {
   "cell_type": "code",
   "execution_count": 131,
   "metadata": {},
   "outputs": [],
   "source": [
    "lda_model = gensim.models.ldamodel.LdaModel(corpus=corpus,\n",
    "                                           id2word=id2word,\n",
    "                                           num_topics=12, random_state=42, passes=10, per_word_topics=True)"
   ]
  },
  {
   "cell_type": "code",
   "execution_count": 132,
   "metadata": {},
   "outputs": [
    {
     "name": "stdout",
     "output_type": "stream",
     "text": [
      "[(0, '0.138*\"mobile\" + 0.040*\"call\" + 0.036*\"screen\" + 0.031*\"feature\" + 0.030*\"option\" + 0.020*\"music\" + 0.017*\"software\" + 0.016*\"app\" + 0.015*\"video\" + 0.015*\"card\"'), (1, '0.151*\"money\" + 0.128*\"....\" + 0.071*\"waste\" + 0.056*\"value\" + 0.046*\"glass\" + 0.038*\"speaker\" + 0.024*\"gorilla\" + 0.022*\"set\" + 0.022*\"ok\" + 0.020*\"piece\"'), (2, '0.216*\"note\" + 0.113*\"k8\" + 0.090*\"lenovo\" + 0.030*\"sound\" + 0.023*\"dolby\" + 0.020*\"killer\" + 0.018*\"gallery\" + 0.018*\"system\" + 0.018*\"atmos\" + 0.018*\"excellent\"'), (3, '0.078*\"phone\" + 0.040*\"day\" + 0.038*\"amazon\" + 0.035*\"service\" + 0.034*\"issue\" + 0.027*\"time\" + 0.027*\"lenovo\" + 0.026*\"battery\" + 0.024*\"month\" + 0.023*\"device\"'), (4, '0.280*\"product\" + 0.176*\"problem\" + 0.080*\"network\" + 0.075*\"issue\" + 0.066*\"heating\" + 0.021*\"jio\" + 0.021*\"sim\" + 0.019*\"volta\" + 0.010*\"connection\" + 0.009*\"signal\"'), (5, '0.093*\"heat\" + 0.070*\".....\" + 0.052*\"processor\" + 0.038*\"everything\" + 0.038*\"budget\" + 0.031*\"....\" + 0.030*\"core\" + 0.025*\"display\" + 0.017*\"cell\" + 0.016*\"hr\"'), (6, '0.126*\"range\" + 0.075*\"price\" + 0.046*\"work\" + 0.038*\"mobile\" + 0.038*\"specification\" + 0.035*\"super\" + 0.034*\"......\" + 0.030*\"bit\" + 0.026*\"cam\" + 0.025*\"k\"'), (7, '0.118*\"charger\" + 0.059*\"hai\" + 0.056*\"handset\" + 0.037*\"box\" + 0.029*\"turbo\" + 0.027*\"charge\" + 0.021*\"plz\" + 0.016*\"hi\" + 0.016*\"cable\" + 0.013*\"bhi\"'), (8, '0.242*\"price\" + 0.065*\"superb\" + 0.046*\"buy\" + 0.045*\"headphone\" + 0.039*\"thanks\" + 0.036*\"worth\" + 0.034*\"feature\" + 0.029*\"smartphone\" + 0.026*\"expectation\" + 0.017*\"offer\"'), (9, '0.158*\"camera\" + 0.136*\"battery\" + 0.064*\"quality\" + 0.061*\"phone\" + 0.045*\"performance\" + 0.029*\"backup\" + 0.019*\"issue\" + 0.017*\"life\" + 0.017*\"day\" + 0.015*\"mode\"'), (10, '0.548*\"phone\" + 0.021*\"h\" + 0.014*\"ram\" + 0.013*\"hang\" + 0.012*\"gb\" + 0.011*\"game\" + 0.010*\"ho\" + 0.007*\"u\" + 0.006*\"lot\" + 0.006*\"interface\"'), (11, '0.106*\"feature\" + 0.061*\"delivery\" + 0.060*\"time\" + 0.035*\"star\" + 0.034*\"experience\" + 0.029*\"camera\" + 0.023*\"condition\" + 0.018*\"cost\" + 0.018*\"class\" + 0.017*\"awesome\"')]\n"
     ]
    }
   ],
   "source": [
    "print(lda_model.print_topics())"
   ]
  },
  {
   "cell_type": "code",
   "execution_count": 133,
   "metadata": {},
   "outputs": [
    {
     "name": "stdout",
     "output_type": "stream",
     "text": [
      "\n",
      " Coherence Score :  0.475339388396195\n"
     ]
    }
   ],
   "source": [
    "coh_model_lda = CoherenceModel(model=lda_model,texts=reviews_sw_removed,\n",
    "                              dictionary=id2word,coherence='c_v')\n",
    "coh_lda = coh_model_lda.get_coherence()\n",
    "\n",
    "print(\"\\n Coherence Score : \",coh_lda)"
   ]
  },
  {
   "cell_type": "markdown",
   "metadata": {},
   "source": [
    "## Looking at the topics and each terms following can be combined –\n",
    "-\tTopic 1, 6 and 8 possibly talks about 'pricing'\n",
    "-\tTopic 3, 7 and 9 closely talks about 'battery related issues'\n",
    "-\tTopic 0, 2 and 11 vaguely talks about 'performance'\n"
   ]
  },
  {
   "cell_type": "markdown",
   "metadata": {},
   "source": [
    "\n",
    "### 10 topics seems to be the right number of topics from the data.\n",
    "### We’ll create a topic model with 10 topics.\n"
   ]
  },
  {
   "cell_type": "code",
   "execution_count": 134,
   "metadata": {},
   "outputs": [],
   "source": [
    "lda_model8 = gensim.models.ldamodel.LdaModel(corpus=corpus,\n",
    "                                            id2word=id2word,\n",
    "                                            num_topics=10,random_state=42, passes=10,per_word_topics=True)"
   ]
  },
  {
   "cell_type": "code",
   "execution_count": 135,
   "metadata": {},
   "outputs": [
    {
     "name": "stdout",
     "output_type": "stream",
     "text": [
      "\n",
      " Coherence Score :  0.5442702792781539\n"
     ]
    }
   ],
   "source": [
    "coh_model_lda8 = CoherenceModel(model=lda_model8,texts=reviews_sw_removed,\n",
    "                              dictionary=id2word,coherence='c_v')\n",
    "coh_lda8 = coh_model_lda8.get_coherence()\n",
    "\n",
    "print(\"\\n Coherence Score : \",coh_lda8)"
   ]
  },
  {
   "cell_type": "markdown",
   "metadata": {},
   "source": [
    "### The coherence is now 0.54 which is a significant increase from 0.48 previously."
   ]
  },
  {
   "cell_type": "code",
   "execution_count": 136,
   "metadata": {},
   "outputs": [],
   "source": [
    "x= lda_model8.show_topics(formatted=False)\n",
    "topic_words = [(tp[0], [wd[0] for wd in tp[1]]) for tp in x]\n"
   ]
  },
  {
   "cell_type": "code",
   "execution_count": 137,
   "metadata": {},
   "outputs": [
    {
     "name": "stdout",
     "output_type": "stream",
     "text": [
      "0::['mobile', 'call', 'screen', 'feature', 'option', 'app', 'card', 'cast', 'image', 'music']\n",
      "1::['money', 'waste', 'value', 'handset', 'plz', 'headset', 'offer', 'signal', 'facility', 'drainage']\n",
      "2::['note', 'k8', 'lenovo', 'dolby', 'feature', 'sound', 'system', 'killer', 'atmos', 'excellent']\n",
      "3::['phone', 'issue', 'day', 'problem', 'lenovo', 'service', 'time', 'month', 'amazon', 'update']\n",
      "4::['product', 'problem', 'network', 'issue', 'heating', 'amazon', 'sim', 'h', 'return', 'jio']\n",
      "5::['....', 'battery', 'phone', 'heat', 'hour', 'charge', 'time', '.....', 'charging', 'hr']\n",
      "6::['price', 'phone', 'feature', 'range', 'budget', 'specification', 'buy', 'smartphone', 'super', 'speaker']\n",
      "7::['charger', 'hai', 'ho', 'turbo', 'box', 'piece', 'cable', 'bill', 'bhi', 'hi']\n",
      "8::['delivery', 'superb', 'device', 'headphone', 'thanks', 'earphone', 'set', 'ok', 'pls', 'expectation']\n",
      "9::['camera', 'battery', 'phone', 'quality', 'performance', 'backup', 'mode', 'issue', 'life', 'day']\n",
      "\n"
     ]
    }
   ],
   "source": [
    "for topic, words in topic_words:\n",
    "    print(str(topic)+\"::\"+str(words))\n",
    "print()"
   ]
  },
  {
   "cell_type": "code",
   "execution_count": 138,
   "metadata": {},
   "outputs": [],
   "source": [
    "data = {(\"Topic 01 --> \",\"Product Accessories\"),\n",
    "        (\"Topic 02 --> \",\"Review & Issues\"),\n",
    "        (\"Topic 03 --> \",\"Product Features\"),\n",
    "        (\"Topic 04 --> \",\"Service Issues\"),\n",
    "        (\"Topic 05 --> \",\"Networking Issues\"),\n",
    "        (\"Topic 06 --> \",\"Battery Related Issues\"),\n",
    "        (\"Topic 07 --> \",\"Overall General Phone Features\"),\n",
    "        (\"Topic 08 --> \",\"Mobile Accessories\"),\n",
    "        (\"Topic 09 --> \",\"Delivery Services\"),\n",
    "        (\"Topic 10 --> \",\"Camera Quality\")}\n",
    "columns = (\"Topic\",\"Business Name\")"
   ]
  },
  {
   "cell_type": "code",
   "execution_count": 145,
   "metadata": {},
   "outputs": [],
   "source": [
    "review_data = pd.DataFrame(data,columns=columns).sort_values(\"Topic\")\n"
   ]
  },
  {
   "cell_type": "code",
   "execution_count": 146,
   "metadata": {},
   "outputs": [
    {
     "name": "stdout",
     "output_type": "stream",
     "text": [
      "         Topic                   Business Name\n",
      " Topic 01 -->              Product Accessories\n",
      " Topic 02 -->                  Review & Issues\n",
      " Topic 03 -->                 Product Features\n",
      " Topic 04 -->                   Service Issues\n",
      " Topic 05 -->                Networking Issues\n",
      " Topic 06 -->           Battery Related Issues\n",
      " Topic 07 -->   Overall General Phone Features\n",
      " Topic 08 -->               Mobile Accessories\n",
      " Topic 09 -->                Delivery Services\n",
      " Topic 10 -->                   Camera Quality\n"
     ]
    }
   ],
   "source": [
    "print(review_data.to_string(index=False))"
   ]
  },
  {
   "cell_type": "code",
   "execution_count": null,
   "metadata": {},
   "outputs": [],
   "source": []
  }
 ],
 "metadata": {
  "kernelspec": {
   "display_name": "Python 3",
   "language": "python",
   "name": "python3"
  },
  "language_info": {
   "codemirror_mode": {
    "name": "ipython",
    "version": 3
   },
   "file_extension": ".py",
   "mimetype": "text/x-python",
   "name": "python",
   "nbconvert_exporter": "python",
   "pygments_lexer": "ipython3",
   "version": "3.8.5"
  }
 },
 "nbformat": 4,
 "nbformat_minor": 4
}
